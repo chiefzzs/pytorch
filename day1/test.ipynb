{
 "cells": [
  {
   "cell_type": "markdown",
   "metadata": {},
   "source": [
    "#  入门"
   ]
  },
  {
   "cell_type": "code",
   "execution_count": 1,
   "metadata": {},
   "outputs": [],
   "source": [
    "from __future__ import print_function\n",
    "import torch"
   ]
  },
  {
   "cell_type": "code",
   "execution_count": 2,
   "metadata": {},
   "outputs": [
    {
     "name": "stdout",
     "output_type": "stream",
     "text": [
      "tensor([[1.0286e-38, 1.0653e-38, 1.0194e-38],\n",
      "        [8.4490e-39, 1.0469e-38, 9.3674e-39],\n",
      "        [9.9184e-39, 8.7245e-39, 9.2755e-39],\n",
      "        [8.9082e-39, 9.9184e-39, 8.4490e-39],\n",
      "        [9.6429e-39, 1.0653e-38, 1.0469e-38]])\n"
     ]
    }
   ],
   "source": [
    "x = torch.empty(5, 3)\n",
    "print(x)"
   ]
  },
  {
   "cell_type": "code",
   "execution_count": 4,
   "metadata": {},
   "outputs": [
    {
     "name": "stdout",
     "output_type": "stream",
     "text": [
      "tensor([[0, 0, 0],\n",
      "        [0, 0, 0],\n",
      "        [0, 0, 0],\n",
      "        [0, 0, 0],\n",
      "        [0, 0, 0]])\n"
     ]
    }
   ],
   "source": [
    "x = torch.zeros(5, 3, dtype=torch.long)\n",
    "print(x)"
   ]
  },
  {
   "cell_type": "code",
   "execution_count": 5,
   "metadata": {},
   "outputs": [
    {
     "name": "stdout",
     "output_type": "stream",
     "text": [
      "tensor([[1., 1., 1.],\n",
      "        [1., 1., 1.],\n",
      "        [1., 1., 1.],\n",
      "        [1., 1., 1.],\n",
      "        [1., 1., 1.]], dtype=torch.float64)\n",
      "tensor([[ 0.9771, -1.5464,  0.7365],\n",
      "        [ 0.2894,  2.2332,  0.6639],\n",
      "        [ 1.1960, -1.0653,  1.4924],\n",
      "        [-1.8203, -1.4601, -0.1597],\n",
      "        [-0.9878,  1.9973,  1.0760]])\n"
     ]
    }
   ],
   "source": [
    "x = x.new_ones(5, 3, dtype=torch.double)      # new_* methods take in sizes\n",
    "print(x)\n",
    "x = torch.randn_like(x, dtype=torch.float)    # 重载 dtype!\n",
    "print(x)                                      # 结果size一致"
   ]
  },
  {
   "cell_type": "code",
   "execution_count": 6,
   "metadata": {},
   "outputs": [
    {
     "name": "stdout",
     "output_type": "stream",
     "text": [
      "tensor([[ 1.2353, -1.1532,  0.9649],\n",
      "        [ 0.6667,  2.7005,  1.2753],\n",
      "        [ 1.2556, -0.5069,  1.9082],\n",
      "        [-0.9452, -1.2304, -0.1401],\n",
      "        [-0.4976,  2.6822,  2.0283]])\n"
     ]
    }
   ],
   "source": [
    "y = torch.rand(5, 3)\n",
    "print(x + y)"
   ]
  },
  {
   "cell_type": "code",
   "execution_count": 3,
   "metadata": {},
   "outputs": [
    {
     "name": "stdout",
     "output_type": "stream",
     "text": [
      "tensor([[0.3260, 0.4049, 0.7490],\n",
      "        [0.0215, 0.6240, 0.4427],\n",
      "        [0.3461, 0.0348, 0.3176],\n",
      "        [0.6668, 0.4628, 0.2952],\n",
      "        [0.5183, 0.8008, 0.7875]])\n"
     ]
    }
   ],
   "source": [
    "x = torch.rand(5, 3)\n",
    "print(x)"
   ]
  },
  {
   "cell_type": "code",
   "execution_count": 7,
   "metadata": {},
   "outputs": [
    {
     "name": "stdout",
     "output_type": "stream",
     "text": [
      "tensor([[ 1.2353, -1.1532,  0.9649],\n",
      "        [ 0.6667,  2.7005,  1.2753],\n",
      "        [ 1.2556, -0.5069,  1.9082],\n",
      "        [-0.9452, -1.2304, -0.1401],\n",
      "        [-0.4976,  2.6822,  2.0283]])\n"
     ]
    }
   ],
   "source": [
    "print(torch.add(x, y))"
   ]
  },
  {
   "cell_type": "code",
   "execution_count": 8,
   "metadata": {},
   "outputs": [
    {
     "data": {
      "text/plain": [
       "True"
      ]
     },
     "execution_count": 8,
     "metadata": {},
     "output_type": "execute_result"
    }
   ],
   "source": [
    "torch.cuda.is_available()"
   ]
  },
  {
   "cell_type": "code",
   "execution_count": 9,
   "metadata": {},
   "outputs": [
    {
     "name": "stdout",
     "output_type": "stream",
     "text": [
      "tensor([[ 1.9771, -0.5464,  1.7365],\n",
      "        [ 1.2894,  3.2332,  1.6639],\n",
      "        [ 2.1960, -0.0653,  2.4924],\n",
      "        [-0.8203, -0.4601,  0.8403],\n",
      "        [ 0.0122,  2.9973,  2.0760]], device='cuda:0')\n",
      "tensor([[ 1.9771, -0.5464,  1.7365],\n",
      "        [ 1.2894,  3.2332,  1.6639],\n",
      "        [ 2.1960, -0.0653,  2.4924],\n",
      "        [-0.8203, -0.4601,  0.8403],\n",
      "        [ 0.0122,  2.9973,  2.0760]], dtype=torch.float64)\n"
     ]
    }
   ],
   "source": [
    "## 当GPU可用时,我们可以运行以下代码\n",
    "## 我们将使用`torch.device`来将tensor移入和移出GPU\n",
    "if torch.cuda.is_available():\n",
    "    device = torch.device(\"cuda\")          # a CUDA device object\n",
    "    y = torch.ones_like(x, device=device)  # 直接在GPU上创建tensor\n",
    "    x = x.to(device)                       # 或者使用`.to(\"cuda\")`方法\n",
    "    z = x + y\n",
    "    print(z)\n",
    "    print(z.to(\"cpu\", torch.double))       # `.to`也能在移动时改变dtype"
   ]
  },
  {
   "cell_type": "code",
   "execution_count": 13,
   "metadata": {},
   "outputs": [
    {
     "name": "stdout",
     "output_type": "stream",
     "text": [
      "gpu计算总时长: 13.96 ms\n",
      "cpu计算总时长: 2086.49 ms\n"
     ]
    }
   ],
   "source": [
    "import time\n",
    "import torch\n",
    "\n",
    "# 测试gpu计算耗时\n",
    "A = torch.ones(5000, 5000).to('cuda')\n",
    "B = torch.ones(5000, 5000).to('cuda')\n",
    "startTime2 = time.time()\n",
    "for i in range(101):\n",
    "    C = torch.matmul(A, B)\n",
    "endTime2 = time.time()\n",
    "print('gpu计算总时长:', round((endTime2 - startTime2) * 1000, 2), 'ms')\n",
    "\n",
    "# 测试cpu计算耗时\n",
    "A = torch.ones(5000, 5000)\n",
    "B = torch.ones(5000, 5000)\n",
    "startTime1 = time.time()\n",
    "for i in range(1):\n",
    "    C = torch.matmul(A, B)\n",
    "endTime1 = time.time()\n",
    "print('cpu计算总时长:', round((endTime1 - startTime1) * 1000, 2), 'ms')\n",
    " "
   ]
  }
 ],
 "metadata": {
  "kernelspec": {
   "display_name": "p310",
   "language": "python",
   "name": "python3"
  },
  "language_info": {
   "codemirror_mode": {
    "name": "ipython",
    "version": 3
   },
   "file_extension": ".py",
   "mimetype": "text/x-python",
   "name": "python",
   "nbconvert_exporter": "python",
   "pygments_lexer": "ipython3",
   "version": "3.10.9"
  },
  "orig_nbformat": 4
 },
 "nbformat": 4,
 "nbformat_minor": 2
}
