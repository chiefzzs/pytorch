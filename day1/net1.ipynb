{
 "cells": [
  {
   "cell_type": "markdown",
   "metadata": {},
   "source": [
    "# 可视化\n",
    "https://blog.csdn.net/weixin_42632271/article/details/107458445\n"
   ]
  },
  {
   "cell_type": "code",
   "execution_count": 13,
   "metadata": {},
   "outputs": [
    {
     "name": "stdout",
     "output_type": "stream",
     "text": [
      "Net(\n",
      "  (conv1): Conv2d(1, 10, kernel_size=(5, 5), stride=(1, 1))\n",
      "  (conv2): Conv2d(10, 20, kernel_size=(5, 5), stride=(1, 1))\n",
      "  (conv2_drop): Dropout2d(p=0.5, inplace=False)\n",
      "  (fc1): Linear(in_features=320, out_features=50, bias=True)\n",
      "  (fc2): Linear(in_features=50, out_features=10, bias=True)\n",
      ")\n",
      "===>1\n",
      "----------------------------------------------------------------\n",
      "        Layer (type)               Output Shape         Param #\n",
      "================================================================\n",
      "            Conv2d-1           [-1, 10, 24, 24]             260\n",
      "            Conv2d-2             [-1, 20, 8, 8]           5,020\n",
      "         Dropout2d-3             [-1, 20, 8, 8]               0\n",
      "            Linear-4                   [-1, 50]          16,050\n",
      "            Linear-5                   [-1, 10]             510\n",
      "================================================================\n",
      "Total params: 21,840\n",
      "Trainable params: 21,840\n",
      "Non-trainable params: 0\n",
      "----------------------------------------------------------------\n",
      "Input size (MB): 0.00\n",
      "Forward/backward pass size (MB): 0.06\n",
      "Params size (MB): 0.08\n",
      "Estimated Total Size (MB): 0.15\n",
      "----------------------------------------------------------------\n",
      "===>2\n"
     ]
    }
   ],
   "source": [
    "import torch\n",
    "import torch.nn as nn\n",
    "import torch.nn.functional as F\n",
    "from tensorboardX import SummaryWriter\n",
    "from torchsummary import summary\n",
    "\n",
    "class Net(nn.Module):\n",
    "    def __init__(self):\n",
    "        super(Net, self).__init__()\n",
    "        #in 1* (28*28) => 10* (24*24)\n",
    "        self.conv1 = nn.Conv2d(1, 10, kernel_size=5)\n",
    "        #in 10 * ( 12*12 ) => 20* (8*8 )\n",
    "        self.conv2 = nn.Conv2d(10, 20, kernel_size=5)\n",
    "        # \n",
    "        self.conv2_drop = nn.Dropout2d()\n",
    "        self.fc1 = nn.Linear(320, 50)\n",
    "        self.fc2 = nn.Linear(50, 10)\n",
    "\n",
    "    def forward(self, x):\n",
    "        #  max_pool2d , 第一个参数输入，第二个参数 kernel_size\n",
    "        #  in  10* (24*24) => 10 * ( 12*12 )\n",
    "        x = F.relu(F.max_pool2d(self.conv1(x), 2))\n",
    "\n",
    "        # in 20* (8*8 ) => 20* (4*4 )\n",
    "        x = F.relu(F.max_pool2d(self.conv2_drop(self.conv2(x)), 2))\n",
    "\n",
    "        # in 20* (4*4 ) => -1 * 320 \n",
    "        x = x.view(-1, 320)\n",
    "        # in  -1 * 320 =>  -1 * 50 \n",
    "        x = F.relu(self.fc1(x))\n",
    "        x = F.dropout(x, training=self.training)\n",
    "        # in -1 * 50 => -1 * 10\n",
    "        x = self.fc2(x)\n",
    "        return F.log_softmax(x, dim=1)\n",
    "if __name__ == '__main__':\n",
    "\tNet =Net()\n",
    "\t'''torchsummary 打印网络结构'''\n",
    "\tdevice = torch.device(\"cuda\" if torch.cuda.is_available() else \"cpu\") \n",
    "\tmodel = Net.to(device)     \n",
    "\tprint(model)\n",
    "\tprint(\"===>1\")     \n",
    "\tsummary(model, (1, 28, 28))#（1，28，28）对应（c,h,w）,不用指定batch参数\n",
    "\tprint(\"===>2\")\n",
    "\t'''tensorboardX生成日志文件'''\n",
    "\tdummy_input01 = torch.rand(10, 1, 28, 28)  # 假设输入10张1*28*28的图片\n",
    "\tX = dummy_input01.to(device)\n",
    "\twith SummaryWriter(comment='Net') as w:\n",
    "\t    w.add_graph(Net, (X))\n",
    "\t# tensorboard.exe --logdir=F:\\code\\CNN02\\runs\\Jul20_09-29-44_LAPTOP-DTN3ORVQCNN02 --host=127.0.0.1\n"
   ]
  },
  {
   "cell_type": "markdown",
   "metadata": {},
   "source": []
  }
 ],
 "metadata": {
  "kernelspec": {
   "display_name": "p310",
   "language": "python",
   "name": "python3"
  },
  "language_info": {
   "codemirror_mode": {
    "name": "ipython",
    "version": 3
   },
   "file_extension": ".py",
   "mimetype": "text/x-python",
   "name": "python",
   "nbconvert_exporter": "python",
   "pygments_lexer": "ipython3",
   "version": "3.10.9"
  },
  "orig_nbformat": 4
 },
 "nbformat": 4,
 "nbformat_minor": 2
}
