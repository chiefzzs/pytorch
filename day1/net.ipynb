{
 "cells": [
  {
   "cell_type": "markdown",
   "metadata": {},
   "source": [
    "# 神经网络"
   ]
  },
  {
   "cell_type": "code",
   "execution_count": 6,
   "metadata": {},
   "outputs": [
    {
     "name": "stdout",
     "output_type": "stream",
     "text": [
      "Net(\n",
      "  (conv1): Conv2d(1, 6, kernel_size=(5, 5), stride=(1, 1))\n",
      "  (conv2): Conv2d(6, 16, kernel_size=(5, 5), stride=(1, 1))\n",
      "  (fc1): Linear(in_features=400, out_features=120, bias=True)\n",
      "  (fc2): Linear(in_features=120, out_features=84, bias=True)\n",
      "  (fc3): Linear(in_features=84, out_features=10, bias=True)\n",
      ")\n",
      "----------------------------------------------------------------\n",
      "        Layer (type)               Output Shape         Param #\n",
      "================================================================\n",
      "            Conv2d-1            [-1, 6, 28, 28]             156\n",
      "            Conv2d-2           [-1, 16, 10, 10]           2,416\n",
      "            Linear-3                  [-1, 120]          48,120\n",
      "            Linear-4                   [-1, 84]          10,164\n",
      "            Linear-5                   [-1, 10]             850\n",
      "================================================================\n",
      "Total params: 61,706\n",
      "Trainable params: 61,706\n",
      "Non-trainable params: 0\n",
      "----------------------------------------------------------------\n",
      "Input size (MB): 0.00\n",
      "Forward/backward pass size (MB): 0.05\n",
      "Params size (MB): 0.24\n",
      "Estimated Total Size (MB): 0.29\n",
      "----------------------------------------------------------------\n"
     ]
    }
   ],
   "source": [
    "import torch\n",
    "import torch.nn as nn\n",
    "import torch.nn.functional as F\n",
    "from tensorboardX import SummaryWriter\n",
    "from torchsummary import summary\n",
    "\n",
    "# 定义训练的设备 使用gpu进行训练\n",
    "device = torch.device(\"cuda\" if torch.cuda.is_available() else \"cpu\") \n",
    "\n",
    "class Net(nn.Module):\n",
    "    def __init__(self):\n",
    "        super(Net, self).__init__()\n",
    "        # 输入图像channel：1；输出channel：6；5x5卷积核\n",
    "        # in  1*  32*32  => 6* 28*28 \n",
    "        self.conv1 = nn.Conv2d(1, 6, 5)\n",
    "        # in 6 * 14*14  => 16*   10*10 \n",
    "        self.conv2 = nn.Conv2d(6, 16, 5)\n",
    "        # 仿射变换：y = Wx + b ， in : 16*5*5 | 400 = > 120 \n",
    "        self.fc1 = nn.Linear(16 * 5 * 5, 120)\n",
    "        self.fc2 = nn.Linear(120, 84)\n",
    "        self.fc3 = nn.Linear(84, 10)\n",
    "    def forward(self, x):\n",
    "        # 2x2 Max pooling\n",
    "        # in    28*28     => 14*14 \n",
    "        x = F.max_pool2d(F.relu(self.conv1(x)), (2, 2))\n",
    "        # If the size is a square you can only specify a single number\n",
    "        # in 10*10   => 5*5 \n",
    "        x = F.max_pool2d(F.relu(self.conv2(x)), 2)\n",
    "        x = x.view(-1, self.num_flat_features(x))\n",
    "        x = F.relu(self.fc1(x))\n",
    "        x = F.relu(self.fc2(x))\n",
    "        x = self.fc3(x)\n",
    "        return x\n",
    "    def num_flat_features(self, x):\n",
    "        size = x.size()[1:]  # 除去批大小维度的其余维度\n",
    "        num_features = 1\n",
    "        for s in size:\n",
    "            num_features *= s\n",
    "        return num_features\n",
    "net = Net()\n",
    "model = net.to(device)\n",
    "\n",
    "print(net)\n",
    "\n",
    "summary(model, (1, 32, 32))\n",
    "\n",
    "\n",
    "writer = SummaryWriter(\"torchlogs/\") \n",
    "dummy_input01 = torch.rand(10, 1, 32, 32)  # 假设输入10张1*28*28的图片\n",
    "dummy_input01 = dummy_input01.to(device)\n",
    "writer.add_graph(model, dummy_input01)\n",
    "writer.close()"
   ]
  },
  {
   "cell_type": "code",
   "execution_count": 11,
   "metadata": {},
   "outputs": [
    {
     "name": "stdout",
     "output_type": "stream",
     "text": [
      "10\n",
      "torch.Size([6, 1, 5, 5])\n",
      "torch.Size([6])\n",
      "torch.Size([16, 6, 5, 5])\n",
      "torch.Size([16])\n",
      "torch.Size([120, 400])\n",
      "torch.Size([120])\n",
      "torch.Size([84, 120])\n",
      "torch.Size([84])\n",
      "torch.Size([10, 84])\n",
      "torch.Size([10])\n"
     ]
    }
   ],
   "source": [
    "params = list(net.parameters())\n",
    "print(len(params))\n",
    "for param in params:\n",
    "    print(param .size())  # conv1's .weight"
   ]
  },
  {
   "cell_type": "code",
   "execution_count": 13,
   "metadata": {},
   "outputs": [
    {
     "name": "stdout",
     "output_type": "stream",
     "text": [
      "tensor([[ 0.0446, -0.1291,  0.0909,  0.0149,  0.0414, -0.0109, -0.0063, -0.0150,\n",
      "         -0.0986,  0.0650],\n",
      "        [ 0.0442, -0.1281,  0.0923,  0.0166,  0.0400, -0.0149, -0.0061, -0.0120,\n",
      "         -0.1014,  0.0664],\n",
      "        [ 0.0445, -0.1302,  0.0893,  0.0159,  0.0410, -0.0135, -0.0047, -0.0141,\n",
      "         -0.1006,  0.0640],\n",
      "        [ 0.0414, -0.1303,  0.0933,  0.0140,  0.0411, -0.0142, -0.0063, -0.0130,\n",
      "         -0.1028,  0.0654],\n",
      "        [ 0.0475, -0.1274,  0.0920,  0.0152,  0.0408, -0.0146, -0.0074, -0.0116,\n",
      "         -0.1046,  0.0620],\n",
      "        [ 0.0411, -0.1293,  0.0922,  0.0164,  0.0395, -0.0172, -0.0094, -0.0107,\n",
      "         -0.0976,  0.0657],\n",
      "        [ 0.0471, -0.1288,  0.0907,  0.0167,  0.0368, -0.0134, -0.0058, -0.0110,\n",
      "         -0.1005,  0.0649],\n",
      "        [ 0.0437, -0.1290,  0.0918,  0.0170,  0.0400, -0.0134, -0.0088, -0.0137,\n",
      "         -0.1029,  0.0648],\n",
      "        [ 0.0441, -0.1327,  0.0907,  0.0168,  0.0392, -0.0113, -0.0098, -0.0148,\n",
      "         -0.1004,  0.0647],\n",
      "        [ 0.0444, -0.1346,  0.0941,  0.0148,  0.0422, -0.0136, -0.0100, -0.0130,\n",
      "         -0.0990,  0.0661]], device='cuda:0', grad_fn=<AddmmBackward0>)\n"
     ]
    }
   ],
   "source": [
    "input_cpu = torch.rand(10, 1, 32, 32)  # 假设输入10张1*28*28的图片\n",
    "input = input_cpu.to(device)\n",
    "\n",
    "out = net(input)\n",
    "print(out)"
   ]
  }
 ],
 "metadata": {
  "kernelspec": {
   "display_name": "p310",
   "language": "python",
   "name": "python3"
  },
  "language_info": {
   "codemirror_mode": {
    "name": "ipython",
    "version": 3
   },
   "file_extension": ".py",
   "mimetype": "text/x-python",
   "name": "python",
   "nbconvert_exporter": "python",
   "pygments_lexer": "ipython3",
   "version": "3.10.9"
  },
  "orig_nbformat": 4
 },
 "nbformat": 4,
 "nbformat_minor": 2
}
