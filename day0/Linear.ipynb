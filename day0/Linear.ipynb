{
 "cells": [
  {
   "cell_type": "markdown",
   "metadata": {},
   "source": [
    "# Linear\n",
    "\n",
    "从名称就可以看出来，nn.Linear表示的是线性变换，原型就是初级数学里学到的线性函数：y=kx+b\n",
    "不过在深度学习中，变量都是多维张量，乘法就是矩阵乘法，加法就是矩阵加法，因此nn.Linear()运行的真正的计算就是：\n",
    "\n",
    "output = weight @ input + bias\n",
    " \n",
    "\n",
    "\n",
    "torch.nn.Linear(in_features, # 输入的神经元个数\n",
    "           out_features, # 输出神经元个数\n",
    "           bias=True # 是否包含偏置\n",
    "           )\n",
    "\n"
   ]
  },
  {
   "cell_type": "code",
   "execution_count": 15,
   "metadata": {},
   "outputs": [
    {
     "name": "stdout",
     "output_type": "stream",
     "text": [
      "weight , bias  torch.Size([40, 20]) torch.Size([40])\n",
      "torch.Size([128, 20]) torch.Size([128, 40])\n"
     ]
    }
   ],
   "source": [
    "import torch\n",
    "m = torch.nn.Linear(20, 40)\n",
    "#print(m.weight,m.bias)\n",
    "print(\"weight , bias \",m.weight.shape,m.bias.shape)\n",
    "input = torch.randn(128, 20)\n",
    "output = m(input)\n",
    "print(input.shape , output.size())  # [(128，40])"
   ]
  },
  {
   "cell_type": "code",
   "execution_count": 50,
   "metadata": {},
   "outputs": [],
   "source": [
    "x = torch.arange(12,dtype=torch.float32).view(2,2,3)\n",
    "linear=torch.nn.Linear(3,1)\n",
    "y = linear(x)\n"
   ]
  },
  {
   "cell_type": "code",
   "execution_count": 51,
   "metadata": {},
   "outputs": [
    {
     "name": "stdout",
     "output_type": "stream",
     "text": [
      "tensor([[[0.5331],\n",
      "         [1.3666]],\n",
      "\n",
      "        [[2.2001],\n",
      "         [3.0336]]], grad_fn=<ViewBackward0>)\n",
      "tensor(0.5331, grad_fn=<SumBackward0>)\n"
     ]
    }
   ],
   "source": [
    "a = torch.sum(torch.dot(x[0,0,:],linear.weight.t().view(3))+linear.bias)  \n",
    "print(y)\n",
    "print(a)"
   ]
  },
  {
   "cell_type": "code",
   "execution_count": 55,
   "metadata": {},
   "outputs": [
    {
     "name": "stdout",
     "output_type": "stream",
     "text": [
      "torch.Size([3]) torch.Size([3])\n",
      "tensor([[[ 0.,  1.,  2.],\n",
      "         [ 3.,  4.,  5.]],\n",
      "\n",
      "        [[ 6.,  7.,  8.],\n",
      "         [ 9., 10., 11.]]]) tensor([[0., 1., 2.],\n",
      "        [3., 4., 5.]]) torch.Size([1, 3]) torch.Size([3, 1])\n"
     ]
    }
   ],
   "source": [
    "print(x[0,0,:].shape ,  linear.weight.t().view(3).shape )\n",
    "print( x , x[0,0:] , linear.weight.shape,  linear.weight.t().shape)"
   ]
  }
 ],
 "metadata": {
  "kernelspec": {
   "display_name": "p310",
   "language": "python",
   "name": "python3"
  },
  "language_info": {
   "codemirror_mode": {
    "name": "ipython",
    "version": 3
   },
   "file_extension": ".py",
   "mimetype": "text/x-python",
   "name": "python",
   "nbconvert_exporter": "python",
   "pygments_lexer": "ipython3",
   "version": "3.10.9"
  },
  "orig_nbformat": 4
 },
 "nbformat": 4,
 "nbformat_minor": 2
}
